{
 "cells": [
  {
   "cell_type": "code",
   "execution_count": 24,
   "metadata": {},
   "outputs": [
    {
     "data": {
      "text/html": [
       "<div>\n",
       "<style scoped>\n",
       "    .dataframe tbody tr th:only-of-type {\n",
       "        vertical-align: middle;\n",
       "    }\n",
       "\n",
       "    .dataframe tbody tr th {\n",
       "        vertical-align: top;\n",
       "    }\n",
       "\n",
       "    .dataframe thead th {\n",
       "        text-align: right;\n",
       "    }\n",
       "</style>\n",
       "<table border=\"1\" class=\"dataframe\">\n",
       "  <thead>\n",
       "    <tr style=\"text-align: right;\">\n",
       "      <th></th>\n",
       "      <th>Customer</th>\n",
       "      <th>Type of Customer</th>\n",
       "      <th>Items</th>\n",
       "      <th>Net Sales</th>\n",
       "      <th>Method of Payment</th>\n",
       "      <th>College Graduate</th>\n",
       "      <th>Marital Status</th>\n",
       "      <th>Age</th>\n",
       "    </tr>\n",
       "  </thead>\n",
       "  <tbody>\n",
       "    <tr>\n",
       "      <th>0</th>\n",
       "      <td>1</td>\n",
       "      <td>Regular</td>\n",
       "      <td>1</td>\n",
       "      <td>39.5</td>\n",
       "      <td>Discover</td>\n",
       "      <td>No</td>\n",
       "      <td>Married</td>\n",
       "      <td>32</td>\n",
       "    </tr>\n",
       "    <tr>\n",
       "      <th>1</th>\n",
       "      <td>2</td>\n",
       "      <td>Promotional</td>\n",
       "      <td>1</td>\n",
       "      <td>102.4</td>\n",
       "      <td>Proprietary Card</td>\n",
       "      <td>Yes</td>\n",
       "      <td>Married</td>\n",
       "      <td>36</td>\n",
       "    </tr>\n",
       "    <tr>\n",
       "      <th>2</th>\n",
       "      <td>3</td>\n",
       "      <td>Regular</td>\n",
       "      <td>1</td>\n",
       "      <td>22.5</td>\n",
       "      <td>Proprietary Card</td>\n",
       "      <td>Yes</td>\n",
       "      <td>Married</td>\n",
       "      <td>32</td>\n",
       "    </tr>\n",
       "    <tr>\n",
       "      <th>3</th>\n",
       "      <td>4</td>\n",
       "      <td>Promotional</td>\n",
       "      <td>5</td>\n",
       "      <td>100.4</td>\n",
       "      <td>Proprietary Card</td>\n",
       "      <td>Yes</td>\n",
       "      <td>Married</td>\n",
       "      <td>28</td>\n",
       "    </tr>\n",
       "    <tr>\n",
       "      <th>4</th>\n",
       "      <td>5</td>\n",
       "      <td>Regular</td>\n",
       "      <td>2</td>\n",
       "      <td>54.0</td>\n",
       "      <td>MasterCard</td>\n",
       "      <td>Yes</td>\n",
       "      <td>Married</td>\n",
       "      <td>34</td>\n",
       "    </tr>\n",
       "  </tbody>\n",
       "</table>\n",
       "</div>"
      ],
      "text/plain": [
       "   Customer Type of Customer  Items  Net Sales Method of Payment  \\\n",
       "0         1          Regular      1       39.5          Discover   \n",
       "1         2      Promotional      1      102.4  Proprietary Card   \n",
       "2         3          Regular      1       22.5  Proprietary Card   \n",
       "3         4      Promotional      5      100.4  Proprietary Card   \n",
       "4         5          Regular      2       54.0        MasterCard   \n",
       "\n",
       "  College Graduate Marital Status  Age  \n",
       "0               No        Married   32  \n",
       "1              Yes        Married   36  \n",
       "2              Yes        Married   32  \n",
       "3              Yes        Married   28  \n",
       "4              Yes        Married   34  "
      ]
     },
     "execution_count": 24,
     "metadata": {},
     "output_type": "execute_result"
    }
   ],
   "source": [
    "import pandas as pd\n",
    "import matplotlib.pyplot as plt\n",
    "import seaborn as sns\n",
    "\n",
    "# Load the dataset\n",
    "df = pd.read_csv(\"stores.csv\")\n",
    "df.head()"
   ]
  },
  {
   "cell_type": "code",
   "execution_count": 2,
   "metadata": {},
   "outputs": [
    {
     "name": "stdout",
     "output_type": "stream",
     "text": [
      "Q1: Promotional\n"
     ]
    }
   ],
   "source": [
    "# Question 1: What is the most common type of customer?\n",
    "most_common_customer_type = df['Type of Customer'].value_counts().idxmax()\n",
    "print(\"Q1:\", most_common_customer_type)"
   ]
  },
  {
   "cell_type": "code",
   "execution_count": 3,
   "metadata": {},
   "outputs": [
    {
     "name": "stdout",
     "output_type": "stream",
     "text": [
      "Q2: 3.22\n"
     ]
    }
   ],
   "source": [
    "# Question 2: What is the average number of items purchased?\n",
    "average_items_purchased = df['Items'].mean()\n",
    "print(\"Q2:\", round(average_items_purchased, 2))"
   ]
  },
  {
   "cell_type": "code",
   "execution_count": 4,
   "metadata": {},
   "outputs": [
    {
     "name": "stdout",
     "output_type": "stream",
     "text": [
      "Q3: 287.59\n"
     ]
    }
   ],
   "source": [
    "# Question 3: What is the maximum net sales value?\n",
    "max_net_sales = df['Net Sales'].max()\n",
    "print(\"Q3:\", max_net_sales)"
   ]
  },
  {
   "cell_type": "code",
   "execution_count": 5,
   "metadata": {},
   "outputs": [
    {
     "name": "stdout",
     "output_type": "stream",
     "text": [
      "Q4: Proprietary Card\n"
     ]
    }
   ],
   "source": [
    "# Question 4: Which payment method is most frequently used?\n",
    "most_common_payment_method = df['Method of Payment'].value_counts().idxmax()\n",
    "print(\"Q4:\", most_common_payment_method)"
   ]
  },
  {
   "cell_type": "code",
   "execution_count": 6,
   "metadata": {},
   "outputs": [
    {
     "name": "stdout",
     "output_type": "stream",
     "text": [
      "Q5: 93.0\n"
     ]
    }
   ],
   "source": [
    "# Question 5: What percentage of customers are college graduates?\n",
    "college_graduate_percentage = (df['College Graduate'].value_counts(normalize=True)['Yes'] * 100)\n",
    "print(\"Q5:\", round(college_graduate_percentage, 2))"
   ]
  },
  {
   "cell_type": "code",
   "execution_count": 7,
   "metadata": {},
   "outputs": [
    {
     "name": "stdout",
     "output_type": "stream",
     "text": [
      "Q6: Married\n"
     ]
    }
   ],
   "source": [
    "# Question 6: What is the marital status of most customers?\n",
    "most_common_marital_status = df['Marital Status'].value_counts().idxmax()\n",
    "print(\"Q6:\", most_common_marital_status)"
   ]
  },
  {
   "cell_type": "code",
   "execution_count": 8,
   "metadata": {},
   "outputs": [
    {
     "name": "stdout",
     "output_type": "stream",
     "text": [
      "Q7: 43.08\n"
     ]
    }
   ],
   "source": [
    "# Question 7: What is the average age of customers?\n",
    "average_age = df['Age'].mean()\n",
    "print(\"Q7:\", round(average_age, 2))"
   ]
  },
  {
   "cell_type": "code",
   "execution_count": 9,
   "metadata": {},
   "outputs": [
    {
     "name": "stdout",
     "output_type": "stream",
     "text": [
      "Q8: (np.int64(20), np.int64(78))\n"
     ]
    }
   ],
   "source": [
    "# Question 8: What is the range of ages in the dataset?\n",
    "age_range = (df['Age'].min(), df['Age'].max())\n",
    "print(\"Q8:\", age_range)"
   ]
  },
  {
   "cell_type": "code",
   "execution_count": 10,
   "metadata": {},
   "outputs": [
    {
     "name": "stdout",
     "output_type": "stream",
     "text": [
      "Q9: 5\n"
     ]
    }
   ],
   "source": [
    "# Question 9: How many unique payment methods are there?\n",
    "unique_payment_methods = df['Method of Payment'].nunique()\n",
    "print(\"Q9:\", unique_payment_methods)"
   ]
  },
  {
   "cell_type": "code",
   "execution_count": 11,
   "metadata": {},
   "outputs": [
    {
     "name": "stdout",
     "output_type": "stream",
     "text": [
      "Q10: 59.705\n"
     ]
    }
   ],
   "source": [
    "# Question 10: What is the median net sales value?\n",
    "median_net_sales = df['Net Sales'].median()\n",
    "print(\"Q10:\", median_net_sales)"
   ]
  },
  {
   "cell_type": "code",
   "execution_count": 12,
   "metadata": {},
   "outputs": [
    {
     "name": "stdout",
     "output_type": "stream",
     "text": [
      "Q11: 1\n"
     ]
    }
   ],
   "source": [
    "# Question 11: What is the most common number of items purchased?\n",
    "most_common_items_purchased = df['Items'].value_counts().idxmax()\n",
    "print(\"Q11:\", most_common_items_purchased)"
   ]
  },
  {
   "cell_type": "code",
   "execution_count": 13,
   "metadata": {},
   "outputs": [
    {
     "name": "stdout",
     "output_type": "stream",
     "text": [
      "Q12: 7\n"
     ]
    }
   ],
   "source": [
    "# Question 12: How many customers are not college graduates?\n",
    "non_graduates_count = (df['College Graduate'] == 'No').sum()\n",
    "print(\"Q12:\", non_graduates_count)"
   ]
  },
  {
   "cell_type": "code",
   "execution_count": 14,
   "metadata": {},
   "outputs": [
    {
     "name": "stdout",
     "output_type": "stream",
     "text": [
      "Q13: American Express\n"
     ]
    }
   ],
   "source": [
    "# Question 13: What is the least common payment method?\n",
    "least_common_payment_method = df['Method of Payment'].value_counts().idxmin()\n",
    "print(\"Q13:\", least_common_payment_method)"
   ]
  },
  {
   "cell_type": "code",
   "execution_count": 15,
   "metadata": {},
   "outputs": [
    {
     "name": "stdout",
     "output_type": "stream",
     "text": [
      "Q14: 55.66\n"
     ]
    }
   ],
   "source": [
    "# Question 14: What is the standard deviation of net sales?\n",
    "std_dev_net_sales = df['Net Sales'].std()\n",
    "print(\"Q14:\", round(std_dev_net_sales, 2))"
   ]
  },
  {
   "cell_type": "code",
   "execution_count": 17,
   "metadata": {},
   "outputs": [
    {
     "name": "stdout",
     "output_type": "stream",
     "text": [
      "Q15: 16\n"
     ]
    }
   ],
   "source": [
    "# Question 15: How many customers are single?\n",
    "single_customers_count = (df['Marital Status'] == 'Single').sum()\n",
    "print(\"Q15:\", single_customers_count)"
   ]
  },
  {
   "cell_type": "code",
   "execution_count": 18,
   "metadata": {},
   "outputs": [
    {
     "name": "stdout",
     "output_type": "stream",
     "text": [
      "Q16: 17\n"
     ]
    }
   ],
   "source": [
    "# Question 16: What is the maximum number of items purchased in a single transaction?\n",
    "max_items_purchased = df['Items'].max()\n",
    "print(\"Q16:\", max_items_purchased)"
   ]
  },
  {
   "cell_type": "code",
   "execution_count": 19,
   "metadata": {},
   "outputs": [
    {
     "name": "stdout",
     "output_type": "stream",
     "text": [
      "Q17: 46\n"
     ]
    }
   ],
   "source": [
    "# Question 17: What is the most common age of customers?\n",
    "most_common_age = df['Age'].value_counts().idxmax()\n",
    "print(\"Q17:\", most_common_age)"
   ]
  },
  {
   "cell_type": "code",
   "execution_count": 20,
   "metadata": {},
   "outputs": [
    {
     "name": "stdout",
     "output_type": "stream",
     "text": [
      "Q18: 26\n"
     ]
    }
   ],
   "source": [
    "# Question 18: How many unique ages are there in the dataset?\n",
    "unique_ages_count = df['Age'].nunique()\n",
    "print(\"Q18:\", unique_ages_count)"
   ]
  },
  {
   "cell_type": "code",
   "execution_count": 21,
   "metadata": {},
   "outputs": [
    {
     "name": "stdout",
     "output_type": "stream",
     "text": [
      "Q19: 100\n"
     ]
    }
   ],
   "source": [
    "# Question 19: What is the total number of transactions in the dataset?\n",
    "total_transactions = len(df)\n",
    "print(\"Q19:\", total_transactions)"
   ]
  },
  {
   "cell_type": "code",
   "execution_count": 22,
   "metadata": {},
   "outputs": [
    {
     "name": "stdout",
     "output_type": "stream",
     "text": [
      "Q20: 70.0\n"
     ]
    }
   ],
   "source": [
    "# Question 20: What is the proportion of promotional customers?\n",
    "promotional_customers_proportion = (df['Type of Customer'] == 'Promotional').mean() * 100\n",
    "print(\"Q20:\", round(promotional_customers_proportion, 2))"
   ]
  }
 ],
 "metadata": {
  "kernelspec": {
   "display_name": "dev",
   "language": "python",
   "name": "python3"
  },
  "language_info": {
   "codemirror_mode": {
    "name": "ipython",
    "version": 3
   },
   "file_extension": ".py",
   "mimetype": "text/x-python",
   "name": "python",
   "nbconvert_exporter": "python",
   "pygments_lexer": "ipython3",
   "version": "3.11.11"
  }
 },
 "nbformat": 4,
 "nbformat_minor": 2
}
